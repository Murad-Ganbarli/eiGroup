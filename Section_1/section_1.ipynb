{
 "cells": [
  {
   "cell_type": "code",
   "execution_count": 3,
   "metadata": {},
   "outputs": [],
   "source": [
    "# In this section, you will use the Yelp reviews dataset to answer the questions below. You can\n",
    "# access the dataset via this link (Section 1 data file).\n",
    "# Please answer the following questions:\n",
    "\n",
    "# 7. Based on analyzed data showcase if there are any steps that the restaurant can take\n",
    "# to improve their public appeal.\n"
   ]
  },
  {
   "cell_type": "code",
   "execution_count": 4,
   "metadata": {},
   "outputs": [],
   "source": [
    "import pandas as pd"
   ]
  },
  {
   "cell_type": "code",
   "execution_count": 5,
   "metadata": {},
   "outputs": [],
   "source": [
    "df = pd.read_csv('Section 1 data.csv')"
   ]
  },
  {
   "cell_type": "code",
   "execution_count": 6,
   "metadata": {},
   "outputs": [
    {
     "data": {
      "text/html": [
       "<div>\n",
       "<style scoped>\n",
       "    .dataframe tbody tr th:only-of-type {\n",
       "        vertical-align: middle;\n",
       "    }\n",
       "\n",
       "    .dataframe tbody tr th {\n",
       "        vertical-align: top;\n",
       "    }\n",
       "\n",
       "    .dataframe thead th {\n",
       "        text-align: right;\n",
       "    }\n",
       "</style>\n",
       "<table border=\"1\" class=\"dataframe\">\n",
       "  <thead>\n",
       "    <tr style=\"text-align: right;\">\n",
       "      <th></th>\n",
       "      <th>Review_Date</th>\n",
       "      <th>Review_Text</th>\n",
       "      <th>User_ID</th>\n",
       "      <th>Business_ID</th>\n",
       "      <th>Business_Name</th>\n",
       "      <th>Business_Category</th>\n",
       "      <th>City</th>\n",
       "      <th>State</th>\n",
       "      <th>Latitude</th>\n",
       "      <th>Longitude</th>\n",
       "      <th>Avg_Business_Star_Rating</th>\n",
       "    </tr>\n",
       "  </thead>\n",
       "  <tbody>\n",
       "    <tr>\n",
       "      <th>0</th>\n",
       "      <td>2014-07-16</td>\n",
       "      <td>okay...so so</td>\n",
       "      <td>6VxJJX7h36bMCCFt7URg6w</td>\n",
       "      <td>9QqLqYIwV-n1BJPjnaYv8A</td>\n",
       "      <td>Beef 'O' Brady's</td>\n",
       "      <td>Bars</td>\n",
       "      <td>Chandler</td>\n",
       "      <td>AZ</td>\n",
       "      <td>33.303847</td>\n",
       "      <td>-111.946838</td>\n",
       "      <td>3.5</td>\n",
       "    </tr>\n",
       "    <tr>\n",
       "      <th>1</th>\n",
       "      <td>2014-07-16</td>\n",
       "      <td>Some people complain about the prices but Subw...</td>\n",
       "      <td>viGPiPuMZnV4PR_aiA3-qw</td>\n",
       "      <td>pNQwnY_q4okdlnPiR-3RBA</td>\n",
       "      <td>Empire Bagels</td>\n",
       "      <td>Food</td>\n",
       "      <td>Las Vegas</td>\n",
       "      <td>NV</td>\n",
       "      <td>36.077299</td>\n",
       "      <td>-115.297979</td>\n",
       "      <td>3.5</td>\n",
       "    </tr>\n",
       "    <tr>\n",
       "      <th>2</th>\n",
       "      <td>2014-07-16</td>\n",
       "      <td>Had red curry chicken, the chicken itself was ...</td>\n",
       "      <td>rwehMCinfBjhZ0IbR1zFBw</td>\n",
       "      <td>shCdCHRbnY5FTMJbWl-myQ</td>\n",
       "      <td>Thai Spices</td>\n",
       "      <td>Thai</td>\n",
       "      <td>Mesa</td>\n",
       "      <td>AZ</td>\n",
       "      <td>33.412708</td>\n",
       "      <td>-111.875803</td>\n",
       "      <td>4.0</td>\n",
       "    </tr>\n",
       "    <tr>\n",
       "      <th>3</th>\n",
       "      <td>2014-07-16</td>\n",
       "      <td>Alright, I gave the restaurant manager ample t...</td>\n",
       "      <td>VWqt5IH8fm-k9M0CKFkJzg</td>\n",
       "      <td>HpaYCM_NCauI72LLXxC6SA</td>\n",
       "      <td>Yonaka Modern Japanese</td>\n",
       "      <td>Tapas/Small Plates</td>\n",
       "      <td>Las Vegas</td>\n",
       "      <td>NV</td>\n",
       "      <td>36.114935</td>\n",
       "      <td>-115.209737</td>\n",
       "      <td>4.5</td>\n",
       "    </tr>\n",
       "    <tr>\n",
       "      <th>4</th>\n",
       "      <td>2014-07-16</td>\n",
       "      <td>Blehhhh :/ this place shouldn't even be in bus...</td>\n",
       "      <td>Y6-0ToMhjBsm8iYEaT2meg</td>\n",
       "      <td>FC4q3hJyF8oo984xoo3RMg</td>\n",
       "      <td>808 Sushi</td>\n",
       "      <td>Sushi Bars</td>\n",
       "      <td>Las Vegas</td>\n",
       "      <td>NV</td>\n",
       "      <td>36.052181</td>\n",
       "      <td>-115.279227</td>\n",
       "      <td>3.5</td>\n",
       "    </tr>\n",
       "  </tbody>\n",
       "</table>\n",
       "</div>"
      ],
      "text/plain": [
       "  Review_Date                                        Review_Text  \\\n",
       "0  2014-07-16                                       okay...so so   \n",
       "1  2014-07-16  Some people complain about the prices but Subw...   \n",
       "2  2014-07-16  Had red curry chicken, the chicken itself was ...   \n",
       "3  2014-07-16  Alright, I gave the restaurant manager ample t...   \n",
       "4  2014-07-16  Blehhhh :/ this place shouldn't even be in bus...   \n",
       "\n",
       "                  User_ID             Business_ID           Business_Name  \\\n",
       "0  6VxJJX7h36bMCCFt7URg6w  9QqLqYIwV-n1BJPjnaYv8A        Beef 'O' Brady's   \n",
       "1  viGPiPuMZnV4PR_aiA3-qw  pNQwnY_q4okdlnPiR-3RBA           Empire Bagels   \n",
       "2  rwehMCinfBjhZ0IbR1zFBw  shCdCHRbnY5FTMJbWl-myQ             Thai Spices   \n",
       "3  VWqt5IH8fm-k9M0CKFkJzg  HpaYCM_NCauI72LLXxC6SA  Yonaka Modern Japanese   \n",
       "4  Y6-0ToMhjBsm8iYEaT2meg  FC4q3hJyF8oo984xoo3RMg               808 Sushi   \n",
       "\n",
       "    Business_Category       City State   Latitude   Longitude  \\\n",
       "0                Bars   Chandler    AZ  33.303847 -111.946838   \n",
       "1                Food  Las Vegas    NV  36.077299 -115.297979   \n",
       "2                Thai       Mesa    AZ  33.412708 -111.875803   \n",
       "3  Tapas/Small Plates  Las Vegas    NV  36.114935 -115.209737   \n",
       "4          Sushi Bars  Las Vegas    NV  36.052181 -115.279227   \n",
       "\n",
       "   Avg_Business_Star_Rating  \n",
       "0                       3.5  \n",
       "1                       3.5  \n",
       "2                       4.0  \n",
       "3                       4.5  \n",
       "4                       3.5  "
      ]
     },
     "execution_count": 6,
     "metadata": {},
     "output_type": "execute_result"
    }
   ],
   "source": [
    "# some first steps to understand the data\n",
    "df.head()"
   ]
  },
  {
   "cell_type": "code",
   "execution_count": 7,
   "metadata": {},
   "outputs": [
    {
     "name": "stdout",
     "output_type": "stream",
     "text": [
      "unique_restaurants:  30276\n"
     ]
    }
   ],
   "source": [
    "# 1. How many unique restaurants could be found in this data set? (Hint: Use the\n",
    "# [Business_ID] column for this evaluation.)\n",
    "unique_restaurants = df['Business_ID'].nunique()\n",
    "print(\"unique_restaurants: \", unique_restaurants)"
   ]
  },
  {
   "cell_type": "code",
   "execution_count": 8,
   "metadata": {},
   "outputs": [
    {
     "name": "stdout",
     "output_type": "stream",
     "text": [
      "restaurant_reviews_max:  4bEjOyTaDG24SY5TxsaUNQ\n",
      "restaurant_reviews_max_count:  856\n",
      "restaurant_reviews_max_percentage:  0.38\n"
     ]
    }
   ],
   "source": [
    "# 2. Which restaurant received the highest number of reviews? What about percentage-\n",
    "# wise?\n",
    "restaurant_reviews = df['Business_ID'].value_counts()\n",
    "restaurant_reviews_max = restaurant_reviews.idxmax()\n",
    "restaurant_reviews_max_count = restaurant_reviews.max()\n",
    "restaurant_reviews_max_percentage = (restaurant_reviews_max_count / len(df)) * 100\n",
    "print(\"restaurant_reviews_max: \", restaurant_reviews_max)\n",
    "print(\"restaurant_reviews_max_count: \", restaurant_reviews_max_count)\n",
    "print(\"restaurant_reviews_max_percentage: \", restaurant_reviews_max_percentage.round(2))"
   ]
  },
  {
   "cell_type": "code",
   "execution_count": 9,
   "metadata": {},
   "outputs": [
    {
     "name": "stdout",
     "output_type": "stream",
     "text": [
      "cities_5_star:  ['Las Vegas' 'Henderson' 'Boulder City' 'Nellis']\n"
     ]
    }
   ],
   "source": [
    "# 3. Which cities have got at least one 5-star review in Nevada (NV) state?\n",
    "cities_5_star = df[(df['State'] == 'NV') & (df['Avg_Business_Star_Rating'] == 5)]['City'].unique()\n",
    "print(\"cities_5_star: \", cities_5_star)"
   ]
  },
  {
   "cell_type": "code",
   "execution_count": 10,
   "metadata": {},
   "outputs": [
    {
     "name": "stdout",
     "output_type": "stream",
     "text": [
      "city_reviews_max:  Las Vegas\n",
      "city_reviews_max_count:  10245\n",
      "city_reviews_max_percentage:  4.5\n"
     ]
    }
   ],
   "source": [
    "# 4. Which city has the highest number of reviews in the Business Category of “Hotels &amp;\n",
    "# Travel”? What about percentage-wise?\n",
    "city_reviews = df[df['Business_Category'] == 'Hotels & Travel']['City'].value_counts()\n",
    "city_reviews_max = city_reviews.idxmax()\n",
    "city_reviews_max_count = city_reviews.max()\n",
    "city_reviews_max_percentage = (city_reviews_max_count / len(df)) * 100\n",
    "print(\"city_reviews_max: \", city_reviews_max)\n",
    "print(\"city_reviews_max_count: \", city_reviews_max_count)\n",
    "print(\"city_reviews_max_percentage: \", city_reviews_max_percentage.round(2))"
   ]
  },
  {
   "cell_type": "code",
   "execution_count": 11,
   "metadata": {},
   "outputs": [
    {
     "name": "stdout",
     "output_type": "stream",
     "text": [
      "day_reviews_max:  Monday\n"
     ]
    }
   ],
   "source": [
    "# 5. At what day of the week people are more likely to post their reviews?\n",
    "df['Review_Date'] = pd.to_datetime(df['Review_Date'])\n",
    "df['Review_Day'] = df['Review_Date'].dt.day_name()\n",
    "day_reviews = df['Review_Day'].value_counts()\n",
    "day_reviews_max = day_reviews.idxmax()\n",
    "print(\"day_reviews_max: \", day_reviews_max)"
   ]
  },
  {
   "cell_type": "code",
   "execution_count": 12,
   "metadata": {},
   "outputs": [
    {
     "data": {
      "text/plain": [
       "Review_Year\n",
       "2005    3.622549\n",
       "2006    3.588431\n",
       "2007    3.592101\n",
       "2008    3.632379\n",
       "2009    3.657304\n",
       "2010    3.685897\n",
       "2011    3.696744\n",
       "2012    3.717803\n",
       "2013    3.762827\n",
       "2014    3.794501\n",
       "Name: Avg_Business_Star_Rating, dtype: float64"
      ]
     },
     "execution_count": 12,
     "metadata": {},
     "output_type": "execute_result"
    }
   ],
   "source": [
    "# 6. Showcase if there are any trends regarding restaurant performance as time goes by.\n",
    "\n",
    "df['Review_Year'] = df['Review_Date'].dt.year\n",
    "#lets check one by one for each year by average rating\n",
    "df.groupby('Review_Year')['Avg_Business_Star_Rating'].mean()"
   ]
  },
  {
   "cell_type": "markdown",
   "metadata": {},
   "source": [
    "That shows us average performance of the all restaurants is slightly increasing during the time interval"
   ]
  },
  {
   "cell_type": "code",
   "execution_count": 25,
   "metadata": {},
   "outputs": [],
   "source": [
    "# 7. Based on analyzed data showcase if there are any steps that the restaurant can take\n",
    "# to improve their public appeal."
   ]
  },
  {
   "cell_type": "code",
   "execution_count": 42,
   "metadata": {},
   "outputs": [
    {
     "name": "stdout",
     "output_type": "stream",
     "text": [
      "Defaulting to user installation because normal site-packages is not writeable\n",
      "Collecting textblob\n",
      "  Downloading textblob-0.18.0.post0-py3-none-any.whl.metadata (4.5 kB)\n",
      "Requirement already satisfied: nltk>=3.8 in c:\\users\\murad\\appdata\\roaming\\python\\python310\\site-packages (from textblob) (3.8.1)\n",
      "Requirement already satisfied: click in c:\\programdata\\anaconda3\\envs\\gpu\\lib\\site-packages (from nltk>=3.8->textblob) (8.1.7)\n",
      "Requirement already satisfied: joblib in c:\\programdata\\anaconda3\\envs\\gpu\\lib\\site-packages (from nltk>=3.8->textblob) (1.4.2)\n",
      "Requirement already satisfied: regex>=2021.8.3 in c:\\users\\murad\\appdata\\roaming\\python\\python310\\site-packages (from nltk>=3.8->textblob) (2024.5.15)\n",
      "Requirement already satisfied: tqdm in c:\\programdata\\anaconda3\\envs\\gpu\\lib\\site-packages (from nltk>=3.8->textblob) (4.66.4)\n",
      "Requirement already satisfied: colorama in c:\\programdata\\anaconda3\\envs\\gpu\\lib\\site-packages (from click->nltk>=3.8->textblob) (0.4.6)\n",
      "Downloading textblob-0.18.0.post0-py3-none-any.whl (626 kB)\n",
      "   ---------------------------------------- 0.0/626.3 kB ? eta -:--:--\n",
      "   - ------------------------------------- 30.7/626.3 kB 660.6 kB/s eta 0:00:01\n",
      "   -- ------------------------------------ 41.0/626.3 kB 393.8 kB/s eta 0:00:02\n",
      "   ------ ------------------------------- 102.4/626.3 kB 737.3 kB/s eta 0:00:01\n",
      "   -------- ----------------------------- 133.1/626.3 kB 718.6 kB/s eta 0:00:01\n",
      "   --------------- ------------------------ 235.5/626.3 kB 1.0 MB/s eta 0:00:01\n",
      "   ---------------------- ----------------- 348.2/626.3 kB 1.4 MB/s eta 0:00:01\n",
      "   -------------------------------- ------- 501.8/626.3 kB 1.7 MB/s eta 0:00:01\n",
      "   ---------------------------------------- 626.3/626.3 kB 1.8 MB/s eta 0:00:00\n",
      "Installing collected packages: textblob\n",
      "Successfully installed textblob-0.18.0.post0\n",
      "Note: you may need to restart the kernel to use updated packages.\n"
     ]
    },
    {
     "name": "stderr",
     "output_type": "stream",
     "text": [
      "DEPRECATION: neuralplot 0.0.8 has a non-standard dependency specifier matplotlib>=3.1numpy>=1.16. pip 24.1 will enforce this behaviour change. A possible replacement is to upgrade to a newer version of neuralplot or contact the author to suggest that they release a version with a conforming dependency specifiers. Discussion can be found at https://github.com/pypa/pip/issues/12063\n"
     ]
    }
   ],
   "source": [
    "%pip install textblob"
   ]
  },
  {
   "cell_type": "code",
   "execution_count": 44,
   "metadata": {},
   "outputs": [
    {
     "data": {
      "text/plain": [
       "(count    227581.000000\n",
       " mean          0.239787\n",
       " std           0.217432\n",
       " min          -1.000000\n",
       " 25%           0.115833\n",
       " 50%           0.233333\n",
       " 75%           0.357552\n",
       " max           1.000000\n",
       " Name: Sentiment, dtype: float64,\n",
       " Avg_Business_Star_Rating\n",
       " 1.0      409\n",
       " 1.5     1441\n",
       " 2.0     3401\n",
       " 2.5    10969\n",
       " 3.0    28029\n",
       " 3.5    60163\n",
       " 4.0    82280\n",
       " 4.5    33003\n",
       " 5.0     7886\n",
       " Name: count, dtype: int64)"
      ]
     },
     "execution_count": 44,
     "metadata": {},
     "output_type": "execute_result"
    }
   ],
   "source": [
    "from textblob import TextBlob\n",
    "\n",
    "def analyze_sentiment(text):\n",
    "    return TextBlob(text).sentiment.polarity\n",
    "\n",
    "df['Review_Text'] = df['Review_Text'].astype(str)\n",
    "\n",
    "# Now apply sentiment analysis\n",
    "df['Sentiment'] = df['Review_Text'].apply(analyze_sentiment)\n",
    "\n",
    "# Get basic statistics of sentiment\n",
    "sentiment_summary = df['Sentiment'].describe()\n",
    "\n",
    "# Check the distribution of ratings\n",
    "rating_distribution = df['Avg_Business_Star_Rating'].value_counts().sort_index()"
   ]
  },
  {
   "cell_type": "code",
   "execution_count": 45,
   "metadata": {},
   "outputs": [
    {
     "data": {
      "text/plain": [
       "count    227581.000000\n",
       "mean          0.239787\n",
       "std           0.217432\n",
       "min          -1.000000\n",
       "25%           0.115833\n",
       "50%           0.233333\n",
       "75%           0.357552\n",
       "max           1.000000\n",
       "Name: Sentiment, dtype: float64"
      ]
     },
     "execution_count": 45,
     "metadata": {},
     "output_type": "execute_result"
    }
   ],
   "source": [
    "sentiment_summary"
   ]
  },
  {
   "cell_type": "code",
   "execution_count": 46,
   "metadata": {},
   "outputs": [
    {
     "data": {
      "text/plain": [
       "Avg_Business_Star_Rating\n",
       "1.0      409\n",
       "1.5     1441\n",
       "2.0     3401\n",
       "2.5    10969\n",
       "3.0    28029\n",
       "3.5    60163\n",
       "4.0    82280\n",
       "4.5    33003\n",
       "5.0     7886\n",
       "Name: count, dtype: int64"
      ]
     },
     "execution_count": 46,
     "metadata": {},
     "output_type": "execute_result"
    }
   ],
   "source": [
    "rating_distribution"
   ]
  },
  {
   "cell_type": "code",
   "execution_count": 36,
   "metadata": {},
   "outputs": [
    {
     "data": {
      "text/plain": [
       "State\n",
       "MN     5.000000\n",
       "NY     5.000000\n",
       "NC     4.000000\n",
       "MLN    3.883621\n",
       "EDH    3.849352\n",
       "Name: Avg_Business_Star_Rating, dtype: float64"
      ]
     },
     "execution_count": 36,
     "metadata": {},
     "output_type": "execute_result"
    }
   ],
   "source": [
    "#  Group by State and list the average rating of each state\n",
    "df.groupby('State')['Avg_Business_Star_Rating'].mean().sort_values(ascending=False).head(5)"
   ]
  },
  {
   "cell_type": "code",
   "execution_count": 41,
   "metadata": {},
   "outputs": [
    {
     "data": {
      "text/plain": [
       "City\n",
       "Chandler-Gilbert                          5.000000\n",
       "Arcadia                                   5.000000\n",
       "New York                                  5.000000\n",
       "Scottsdale, Phoenix, Chandler, Gilbert    5.000000\n",
       "Eagan                                     5.000000\n",
       "Deforest                                  5.000000\n",
       "Rochester                                 5.000000\n",
       "Litchfield Park                           4.500000\n",
       "Stockbridge                               4.500000\n",
       "Roslin                                    4.500000\n",
       "Surprise Crossing                         4.500000\n",
       "Fort Kinnaird                             4.500000\n",
       "St. Jacobs                                4.500000\n",
       "Water of Leith                            4.500000\n",
       "Newbridge                                 4.500000\n",
       "Victoria Park                             4.500000\n",
       "Tonopah                                   4.400000\n",
       "Fort Mcdowell                             4.375000\n",
       "Midlothian                                4.333333\n",
       "Cramond                                   4.250000\n",
       "Boulder City                              4.231884\n",
       "Nellis                                    4.230769\n",
       "Waddell                                   4.214286\n",
       "DeForest                                  4.187500\n",
       "Cambridge                                 4.150000\n",
       "Glendale Az                               4.000000\n",
       "North Scottsdale                          4.000000\n",
       "Dalkeith                                  4.000000\n",
       "Green Valley                              4.000000\n",
       "Juniper Green                             4.000000\n",
       "Trempealeau                               4.000000\n",
       "Old Town                                  4.000000\n",
       "Dane                                      4.000000\n",
       "Ahwatukee                                 3.970588\n",
       "Summerlin                                 3.969388\n",
       "South Queensferry                         3.928571\n",
       "Carefree                                  3.900709\n",
       "Anthem                                    3.890000\n",
       "McFarland                                 3.875000\n",
       "Wickenburg                                3.849462\n",
       "Name: Avg_Business_Star_Rating, dtype: float64"
      ]
     },
     "execution_count": 41,
     "metadata": {},
     "output_type": "execute_result"
    }
   ],
   "source": [
    "#  Group by State and list the average rating of each state\n",
    "df.groupby('City')['Avg_Business_Star_Rating'].mean().sort_values(ascending=False).head(40)"
   ]
  },
  {
   "cell_type": "code",
   "execution_count": 23,
   "metadata": {},
   "outputs": [
    {
     "name": "stdout",
     "output_type": "stream",
     "text": [
      " Top 25 business categories with highest average rating:  Business_Category\n",
      "Irrigation                 5.000000\n",
      "Personal Chefs             5.000000\n",
      "Employment Law             5.000000\n",
      "Florists                   5.000000\n",
      "Gay Bars                   5.000000\n",
      "Bartenders                 5.000000\n",
      "Graphic Design             5.000000\n",
      "Hospice                    5.000000\n",
      "Hypnosis/Hypnotherapy      5.000000\n",
      "Marketing                  5.000000\n",
      "Medical Spas               5.000000\n",
      "Auto Detailing             5.000000\n",
      "Party Equipment Rentals    5.000000\n",
      "Permanent Makeup           5.000000\n",
      "Officiants                 5.000000\n",
      "Shared Office Spaces       5.000000\n",
      "Propane                    5.000000\n",
      "Talent Agencies            5.000000\n",
      "Speech Therapists          5.000000\n",
      "Religious Schools          5.000000\n",
      "Public Relations           5.000000\n",
      "Chimney Sweeps             5.000000\n",
      "Printing Services          5.000000\n",
      "Plus Size Fashion          5.000000\n",
      "Photo Booth Rentals        4.941176\n",
      "Name: Avg_Business_Star_Rating, dtype: float64\n"
     ]
    }
   ],
   "source": [
    "print(\" Top 25 business categories with highest average rating: \", df.groupby('Business_Category')['Avg_Business_Star_Rating'].mean().sort_values(ascending=False).head(25))"
   ]
  },
  {
   "cell_type": "markdown",
   "metadata": {},
   "source": [
    "The restaurant can improve their public appeal by focusing on the business category with the highest average rating.\n",
    "\n",
    "They could consider reallocating their business to states with top rating average, (That will increase the revenue according to game theory as well) :\n",
    "1. MN     5.000000\n",
    "2. NY     5.000000\n",
    "3. NC     4.000000\n",
    "4. MLN    3.883621\n",
    "5. EDH    3.849352"
   ]
  },
  {
   "cell_type": "code",
   "execution_count": 15,
   "metadata": {},
   "outputs": [
    {
     "name": "stdout",
     "output_type": "stream",
     "text": [
      "Defaulting to user installation because normal site-packages is not writeable\n",
      "Requirement already satisfied: geopy in c:\\users\\murad\\appdata\\roaming\\python\\python310\\site-packages (2.4.1)\n",
      "Requirement already satisfied: geographiclib<3,>=1.52 in c:\\users\\murad\\appdata\\roaming\\python\\python310\\site-packages (from geopy) (2.0)\n",
      "Note: you may need to restart the kernel to use updated packages.\n"
     ]
    },
    {
     "name": "stderr",
     "output_type": "stream",
     "text": [
      "DEPRECATION: neuralplot 0.0.8 has a non-standard dependency specifier matplotlib>=3.1numpy>=1.16. pip 24.1 will enforce this behaviour change. A possible replacement is to upgrade to a newer version of neuralplot or contact the author to suggest that they release a version with a conforming dependency specifiers. Discussion can be found at https://github.com/pypa/pip/issues/12063\n"
     ]
    }
   ],
   "source": [
    "# installing geopy\n",
    "%pip install geopy"
   ]
  },
  {
   "cell_type": "code",
   "execution_count": 16,
   "metadata": {},
   "outputs": [
    {
     "name": "stderr",
     "output_type": "stream",
     "text": [
      "C:\\Users\\Murad\\AppData\\Local\\Temp\\ipykernel_17392\\98573302.py:22: FutureWarning: Setting an item of incompatible dtype is deprecated and will raise an error in a future version of pandas. Value '0.07670972827220254' has dtype incompatible with int64, please explicitly cast to a compatible dtype first.\n",
      "  df.at[i, 'Distance'] = geodesic((df.iloc[i-1]['Latitude'], df.iloc[i-1]['Longitude']), (df.iloc[i]['Latitude'], df.iloc[i]['Longitude'])).kilometers\n"
     ]
    },
    {
     "name": "stdout",
     "output_type": "stream",
     "text": [
      "user_max_distance:  iy7zsAT63v2GbaB8S_iR1A\n",
      "user_max_distance_value:  15981.6  km\n"
     ]
    }
   ],
   "source": [
    "# 8. Bonus Question – Based on this data set which user had the highest cumulative\n",
    "# travel distance? What distance has been covered by him/her?\n",
    "\n",
    "# by considering the visit time and location, we can calculate the distance between two locations one by one for each user using the latitude and longitude\n",
    "# and then sum up the distances for each user to get the total distance travelled by each user\n",
    "# we can use the haversine formula to calculate the distance between two locations\n",
    "# haversine formula: a = sin²(Δφ/2) + cos φ1 ⋅ cos φ2 ⋅ sin²(Δλ/2) c = 2 ⋅ atan2( √a, √(1−a) ) d = R ⋅ c where φ is latitude, λ is longitude, R is earth’s radius (mean radius = 6,371km)\n",
    "# we can use the geopy library to calculate the distance between two locations using the haversine formula\n",
    "\n",
    "from geopy.distance import geodesic\n",
    "\n",
    "# lets calculate the distance between locations for each user by considering the visit time order and sum up the distances for each user \n",
    "# to get the total distance travelled by each user\n",
    "\n",
    "# first we need to sort the data by user_id and review_date\n",
    "df = df.sort_values(['User_ID', 'Review_Date'])\n",
    "\n",
    "# then we can calculate the distance between locations for each user by considering the visit time order\n",
    "df['Distance'] = 0\n",
    "for i in range(1, len(df)):\n",
    "    if df.iloc[i]['User_ID'] == df.iloc[i-1]['User_ID']:\n",
    "        df.at[i, 'Distance'] = geodesic((df.iloc[i-1]['Latitude'], df.iloc[i-1]['Longitude']), (df.iloc[i]['Latitude'], df.iloc[i]['Longitude'])).kilometers\n",
    "\n",
    "# then we can sum up the distances for each user to get the total distance travelled by each user\n",
    "total_distance = df.groupby('User_ID')['Distance'].sum()\n",
    "user_max_distance = total_distance.idxmax()\n",
    "user_max_distance_value = total_distance.max()\n",
    "print(\"user_max_distance: \", user_max_distance)\n",
    "print(\"user_max_distance_value: \", user_max_distance_value.round(1), \" km\")"
   ]
  }
 ],
 "metadata": {
  "kernelspec": {
   "display_name": "gpu",
   "language": "python",
   "name": "python3"
  },
  "language_info": {
   "codemirror_mode": {
    "name": "ipython",
    "version": 3
   },
   "file_extension": ".py",
   "mimetype": "text/x-python",
   "name": "python",
   "nbconvert_exporter": "python",
   "pygments_lexer": "ipython3",
   "version": "3.10.13"
  }
 },
 "nbformat": 4,
 "nbformat_minor": 2
}
